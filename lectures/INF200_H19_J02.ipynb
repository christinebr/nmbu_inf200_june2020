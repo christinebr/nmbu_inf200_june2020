{
 "cells": [
  {
   "cell_type": "markdown",
   "metadata": {},
   "source": [
    "# INF200 Lecture No J02\n",
    "### Hans Ekkehard Plesser / NMBU\n",
    "### 3 June 2020\n",
    "\n",
    "## Today's topics\n",
    "- Python\n",
    "    - Class, static, and private methods\n",
    "    - Repetition: Mutables as default arguments\n",
    "- Development\n",
    "    - A little bit about agile development\n",
    "    - Shared repositories, branches and pull requests"
   ]
  },
  {
   "cell_type": "markdown",
   "metadata": {},
   "source": [
    "## Class methods"
   ]
  },
  {
   "cell_type": "markdown",
   "metadata": {},
   "source": [
    "- Methods usually work on individual objects\n",
    "- Sometimes, it can be useful to do things at a class level\n",
    "- Examples\n",
    "    - count number of instances of a class\n",
    "    - set parameters that apply to all members of a class\n",
    "- We can achieve this by writing *class methods*\n",
    "- A method becomes a class method by adding the `@classmethod` *decorator*\n",
    "- The `self` argument is replaced by `cls` in class methods"
   ]
  },
  {
   "cell_type": "code",
   "execution_count": 1,
   "metadata": {},
   "outputs": [
    {
     "name": "stdout",
     "output_type": "stream",
     "text": [
      "Number of trucks: 3\n",
      "Total weight: 1600\n",
      "Total weight: 2000\n",
      "Total weight: 2500\n"
     ]
    }
   ],
   "source": [
    "class Truck:\n",
    "    \n",
    "    instance_count = 0       # number of trucks\n",
    "    weight_empty = 1000      # weight of empty truck\n",
    "    \n",
    "    @classmethod\n",
    "    def count_new_truck(cls):\n",
    "        cls.instance_count += 1\n",
    "        \n",
    "    @classmethod\n",
    "    def num_trucks(cls):\n",
    "        return cls.instance_count\n",
    "    \n",
    "    @classmethod\n",
    "    def set_weight_empty(cls, we):\n",
    "        cls.weight_empty = we\n",
    "        \n",
    "    def __init__(self, load):\n",
    "        self._load = load\n",
    "        self.count_new_truck()\n",
    "        \n",
    "    def total_weight(self):\n",
    "        return self._load + self.weight_empty\n",
    "    \n",
    "Truck.set_weight_empty(1500)\n",
    "trucks = [Truck(load) for load in [100, 500, 1000]]\n",
    "print(\"Number of trucks:\", Truck.num_trucks())\n",
    "\n",
    "for truck in trucks:\n",
    "    print(\"Total weight:\", truck.total_weight())"
   ]
  },
  {
   "cell_type": "markdown",
   "metadata": {},
   "source": [
    "Note the following:\n",
    "\n",
    "- We can access class attributes through `self`\n",
    "- When counting new trucks, we must make sure that we update the class attribute `instance_count`,  not create an `instance_count` attribute in the instance created. Therefore, we use the *class* method `count_new_truck()`.\n",
    "- When calling `self.count_new_truck()`, Python automatically makes sure that the class of `self`,  not `self` is passed as parameter `cls`."
   ]
  },
  {
   "cell_type": "markdown",
   "metadata": {},
   "source": [
    "### Class methods and inheritance\n",
    "\n",
    "- The `cls` argument passed to a class method is always the concrete class of the object on which the class method is called"
   ]
  },
  {
   "cell_type": "code",
   "execution_count": 2,
   "metadata": {},
   "outputs": [],
   "source": [
    "class A:\n",
    "    _info = None\n",
    "    \n",
    "    @classmethod\n",
    "    def print_info(cls):\n",
    "        print(\"Class info:\", cls._info)\n",
    "        \n",
    "    def display(self):\n",
    "        print(\"Displaying ...\", end=' ')\n",
    "        self.print_info()\n",
    "        \n",
    "class B(A):\n",
    "    _info = \"This is class B\"\n",
    "    \n",
    "class C(A):\n",
    "    _info = \"This is class C\"\n",
    "    \n",
    "class D(C):\n",
    "    _info = \"This is class D\"\n",
    "    \n",
    "b, c, d = B(), C(), D()"
   ]
  },
  {
   "cell_type": "markdown",
   "metadata": {},
   "source": [
    "##### Call `print_info()` on instances"
   ]
  },
  {
   "cell_type": "code",
   "execution_count": 3,
   "metadata": {},
   "outputs": [
    {
     "name": "stdout",
     "output_type": "stream",
     "text": [
      "Class info: This is class B\n",
      "Class info: This is class C\n",
      "Class info: This is class D\n"
     ]
    }
   ],
   "source": [
    "b.print_info()\n",
    "c.print_info()\n",
    "d.print_info()"
   ]
  },
  {
   "cell_type": "markdown",
   "metadata": {},
   "source": [
    "##### Call `display()` on instances, which then calls `print_info()`"
   ]
  },
  {
   "cell_type": "code",
   "execution_count": 4,
   "metadata": {},
   "outputs": [
    {
     "name": "stdout",
     "output_type": "stream",
     "text": [
      "Displaying ... Class info: This is class B\n",
      "Displaying ... Class info: This is class C\n",
      "Displaying ... Class info: This is class D\n"
     ]
    }
   ],
   "source": [
    "b.display()\n",
    "c.display()\n",
    "d.display()"
   ]
  },
  {
   "cell_type": "markdown",
   "metadata": {},
   "source": [
    "- `cls._info` always resolves to the `_info` class attribute defined in the concrete class to which the instance belongs."
   ]
  },
  {
   "cell_type": "markdown",
   "metadata": {},
   "source": [
    "### Static methods\n",
    "\n",
    "- Sometimes, it can be useful to have a function in a class that behaves as a normal function, i.e., does not need any access to \"self\". \n",
    "- In some cases, one will define such a function outside the class.\n",
    "- In other cases, it can be useful to define the function inside the class to show where it belongs logically.\n",
    "- Static methods are used for this purpose. They are defined using the `@staticmethod` decorator.\n",
    "- Note that they only get passed the arguments explicitly given in the call, no `self` is inserted anywhere."
   ]
  },
  {
   "cell_type": "code",
   "execution_count": 5,
   "metadata": {},
   "outputs": [
    {
     "data": {
      "text/plain": [
       "[0.41661987254534116,\n",
       " 0.2986398551995928,\n",
       " 0.1616878239293682,\n",
       " 0.4329362680099159,\n",
       " 0.5532210855693298,\n",
       " 0.412119392939301,\n",
       " 0.5039353681100375,\n",
       " 0.18997137872182035,\n",
       " 0.9674824588798714,\n",
       " 0.7445300401410346]"
      ]
     },
     "execution_count": 5,
     "metadata": {},
     "output_type": "execute_result"
    }
   ],
   "source": [
    "import random\n",
    "\n",
    "class Game:\n",
    "    \n",
    "    def __init__(self, seed):\n",
    "        random.seed(seed)\n",
    "        self.results = []\n",
    "        \n",
    "    def play(self):\n",
    "        n1 = random.random()\n",
    "        n2 = random.random()\n",
    "        n3 = random.random()\n",
    "        res = self._median(n1, n2, n3)\n",
    "        self.results.append(res)\n",
    "        \n",
    "    @staticmethod    \n",
    "    def _median(a, b, c):\n",
    "        return sorted([a, b, c])[1]\n",
    "    \n",
    "g = Game(12345)\n",
    "for _ in range(10):\n",
    "    g.play()\n",
    "    \n",
    "g.results"
   ]
  },
  {
   "cell_type": "markdown",
   "metadata": {},
   "source": [
    "### Private methods\n",
    "\n",
    "- Sometimes, it is useful to define \"helper\" methods that should be used only by other methods of the same class\n",
    "- To mark these methods as private, start the method name with `_`, e.g. `_helper(self, ...)`\n",
    "- Private methods are an *implementation detail*\n",
    "    - By making a method private, we tell other programmers using our module or class that they should not call this method.\n",
    "    - This leaves us free to change the method later.\n",
    "- We can do the same for data attributes. "
   ]
  },
  {
   "cell_type": "markdown",
   "metadata": {},
   "source": [
    "## Mutables as default arguments\n",
    "\n",
    "- Mutables should **never** be used as default arguments\n",
    "- Reason: The default value is a mutable object created when the function or method is defined. Therefore, all calls of the method will receive **the same mutable object** as argument\n",
    "- [Example on Python Tutor](http://pythontutor.com/visualize.html#code=class%20A%3A%0A%20%20%20%20def%20__init__%28self,%20data%3D%5B%5D%29%3A%0A%20%20%20%20%20%20%20%20self.data%20%3D%20data%0A%20%20%20%20def%20add%28self,%20new_data%29%3A%0A%20%20%20%20%20%20%20%20self.data.extend%28new_data%29%0A%0Aa%20%3D%20A%28%5B1,%202,%203%5D%29%0Aa.add%28%5B'a',%20'b'%5D%29%0A%20%20%20%20%20%20%20%20%0Ab%20%3D%20A%28%29%0Ab.add%28%5B'c',%20'd'%5D%29%0A%0Ac%20%3D%20A%28%29&cumulative=false&curInstr=0&heapPrimitives=nevernest&mode=display&origin=opt-frontend.js&py=3&rawInputLstJSON=%5B%5D&textReferences=false) (see what happens when `c` is created!)"
   ]
  },
  {
   "cell_type": "markdown",
   "metadata": {},
   "source": [
    "- Solution: Use `None` as default value and create new mutable in function if necessary"
   ]
  },
  {
   "cell_type": "code",
   "execution_count": 6,
   "metadata": {},
   "outputs": [
    {
     "data": {
      "text/plain": [
       "([1, 2, 3, 'a', 'b'], ['c', 'd'], [])"
      ]
     },
     "execution_count": 6,
     "metadata": {},
     "output_type": "execute_result"
    }
   ],
   "source": [
    "class A:\n",
    "    def __init__(self, data=None):\n",
    "        self.data = data if data is not None else []\n",
    "    def add(self, new_data):\n",
    "        self.data.extend(new_data)\n",
    "        \n",
    "a = A([1, 2, 3])\n",
    "a.add(['a', 'b'])\n",
    "\n",
    "b = A()\n",
    "b.add(['c', 'd'])\n",
    "\n",
    "c = A()\n",
    "\n",
    "a.data, b.data, c.data"
   ]
  },
  {
   "cell_type": "markdown",
   "metadata": {},
   "source": [
    "------------------------------------------"
   ]
  },
  {
   "cell_type": "markdown",
   "metadata": {},
   "source": [
    "## A little bit on Agile development\n",
    "\n",
    "- [Agile software development](https://en.wikipedia.org/wiki/Agile_software_development) is a modern (2001-) set of software development methods\n",
    "- Focus on quick delivery, frequent updates, and flexibility, while maintaining quality\n",
    "    1. Get it to work\n",
    "    1. Get it right\n",
    "    1. Get it fast\n",
    "- We will use in particular three Agile techniques\n",
    "    - [Pair programming](https://en.wikipedia.org/wiki/Pair_programming)\n",
    "    - [Kanban boards](https://en.wikipedia.org/wiki/Kanban_board) (Github project)\n",
    "    - [Test-driven development](https://en.wikipedia.org/wiki/Test-driven_development) (in a mild version)\n",
    "- Typical workflow in this project\n",
    "    - Every morning, review the cards on your board (more often if needed)\n",
    "        - Any cards \"in progress\" or \"under review\" that block further work?\n",
    "        - Prioritise \"to do\" cards and select which to start to work on \n",
    "        - Make sure you do not have more cards \"in progress\"/\"under review\" than you can actually work on at one time\n",
    "    - Move cards between columns as you progress\n",
    "    - Create an issue when you\n",
    "        - identify something that needs to be done\n",
    "        - discover a bug\n",
    "    - When you create an issue\n",
    "        - assign it to a milestone\n",
    "        - assign it to your project and put it into the \"to do\" column\n",
    "    - Develop code in branches and integrate them via pull requests\n",
    "    \n",
    "### A real-life example    \n",
    "For a Github repo of a real-life project using a mild agile approach, see https://github.com/nest/nest-simulator."
   ]
  },
  {
   "cell_type": "markdown",
   "metadata": {},
   "source": [
    "## Shared repositories, branches, and pull requests\n",
    "\n",
    "See videos on the Vimeo channel for examples of the processes described below.\n",
    "\n",
    "### The basic rule \n",
    "**Never force a push**\n",
    "\n",
    "#### Corrollary\n",
    "\n",
    "1. Pull changes from repository\n",
    "1. Merge if necessary (Git/GitKraken will do this automatically for you)\n",
    "    1. Resolve merge conflicts and commit resolved state\n",
    "1. Push\n",
    "\n",
    "#### Exercise 1\n",
    "\n",
    "Try the following later today!\n",
    "\n",
    "##### Round 1\n",
    "- Both of you make changes to `README.md`, one at the top and one at the bottom of the file\n",
    "- Try pushing\n",
    "- If you get an error, see Corrollary\n",
    "- Continue until both your changes are pushed, and both of you have the changes on your computers\n",
    "\n",
    "##### Round 2\n",
    "- Begin as in round 1, but make incompatible changes to the same line of `README.md`\n",
    "- Try pushing, see Corrollary in case of error\n",
    "- Continue until both your changes are pushed, and both of you have the changes on your computers"
   ]
  },
  {
   "cell_type": "markdown",
   "metadata": {},
   "source": [
    "### Developing using branches and pull requests\n",
    "\n",
    "- In larger and long-living projects, code is precious and must be protected from uncontrolled changes.\n",
    "- Therefore, changes to the master branch need to be controlled.\n",
    "\n",
    "### Controlled code evolution\n",
    "- For every change, create a branch\n",
    "- Develop code in the branch\n",
    "- Push branch regularly to repo so partner has access, too\n",
    "- When you think that code is ready for integration to master,\n",
    "    1. push to repo\n",
    "    1. go to repo and create a pull request (PR) to master\n",
    "    1. let your partner review your code\n",
    "    1. make changes if required and push, the PR is automatically updated\n",
    "- Once your partner has approved your PR, merge PR into master\n",
    "\n",
    "### Keeping branches up to date\n",
    "\n",
    "- Sometimes, branches can live for quite a while\n",
    "- Meanwhile, `master` will evolve (as PRs are merged in)\n",
    "- It is then often useful to update the branch with changes in `master`\n",
    "- To keep the branch up to date with changes in `master`\n",
    "    1. make sure your branch is checked out\n",
    "    1. use GitKraken or the git tool of your choice to merge master into your branch\n",
    "    1. resolve merge conflicts if necessary\n",
    "    1. push the merged branch to repo\n",
    "    \n",
    "### Local and remote branches\n",
    "\n",
    "- When you create a branch on your computer, it is a *local branch*\n",
    "- You can only check out and work on local branches\n",
    "- When you push a branch to the repo, you create a *remote branch*\n",
    "- By default you local branch will *track* the remote branch\n",
    "    - You can easily pull changes from and push changes to the remote branch\n",
    "- Your partner may have to *Fetch* from the repo to see new remote branches you have created\n",
    "- Once your your partner can see the remote branch in her git tool, she can check it out, creating her own local branch\n",
    "\n",
    "\n",
    "### Exercise 2\n",
    "\n",
    "Try this later today!\n",
    "\n",
    "1. Each of you creates a local branch (choose different names!)\n",
    "1. Create files `README_<branchname>.md` in your respective branches, fill them with some text\n",
    "1. Push your branches to the repo\n",
    "1. Go to Github and create a PR from your branch to master\n",
    "1. Comment on the PR your partner created\n",
    "1. Make changes to your own branch in response to your partners comments\n",
    "1. Once your partner approves your PR, merge it to master\n",
    "1. Let's say A's PR was merged first. Then B should now merge the changes from master into her PR.\n",
    "1. Now it is time to merge also B's PR into master, provide A is happy with it.\n",
    "1. Afterwards, both A and B check out master and pull all changes in master from the repo.\n",
    "\n",
    "\n",
    "#### Tidy up your shared repository now\n",
    "Once you have completed the exercises above\n",
    "\n",
    "- Delete all branches you created during these exercises\n",
    "- Checkout `master`\n",
    "- Delete the `README_<branchname>.md` files\n",
    "- Edit your `README.md` file so that it gives a brief introduction to your team and project."
   ]
  },
  {
   "cell_type": "code",
   "execution_count": null,
   "metadata": {},
   "outputs": [],
   "source": []
  }
 ],
 "metadata": {
  "kernelspec": {
   "display_name": "Python 3",
   "language": "python",
   "name": "python3"
  },
  "language_info": {
   "codemirror_mode": {
    "name": "ipython",
    "version": 3
   },
   "file_extension": ".py",
   "mimetype": "text/x-python",
   "name": "python",
   "nbconvert_exporter": "python",
   "pygments_lexer": "ipython3",
   "version": "3.7.7"
  }
 },
 "nbformat": 4,
 "nbformat_minor": 4
}
